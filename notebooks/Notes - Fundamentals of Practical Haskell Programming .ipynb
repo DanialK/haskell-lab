{
 "cells": [
  {
   "cell_type": "code",
   "execution_count": 2,
   "metadata": {},
   "outputs": [
    {
     "data": {
      "text/plain": [
       "[4,5,6,8]"
      ]
     },
     "metadata": {},
     "output_type": "display_data"
    }
   ],
   "source": [
    "-- 1. Filter\n",
    "print $ filter (> 3) [1, 2, 3, 4, 5, 6, 8]"
   ]
  },
  {
   "cell_type": "code",
   "execution_count": 4,
   "metadata": {},
   "outputs": [
    {
     "data": {
      "text/html": [
       "<style>/* Styles used for the Hoogle display in the pager */\n",
       ".hoogle-doc {\n",
       "display: block;\n",
       "padding-bottom: 1.3em;\n",
       "padding-left: 0.4em;\n",
       "}\n",
       ".hoogle-code {\n",
       "display: block;\n",
       "font-family: monospace;\n",
       "white-space: pre;\n",
       "}\n",
       ".hoogle-text {\n",
       "display: block;\n",
       "}\n",
       ".hoogle-name {\n",
       "color: green;\n",
       "font-weight: bold;\n",
       "}\n",
       ".hoogle-head {\n",
       "font-weight: bold;\n",
       "}\n",
       ".hoogle-sub {\n",
       "display: block;\n",
       "margin-left: 0.4em;\n",
       "}\n",
       ".hoogle-package {\n",
       "font-weight: bold;\n",
       "font-style: italic;\n",
       "}\n",
       ".hoogle-module {\n",
       "font-weight: bold;\n",
       "}\n",
       ".hoogle-class {\n",
       "font-weight: bold;\n",
       "}\n",
       ".get-type {\n",
       "color: green;\n",
       "font-weight: bold;\n",
       "font-family: monospace;\n",
       "display: block;\n",
       "white-space: pre-wrap;\n",
       "}\n",
       ".show-type {\n",
       "color: green;\n",
       "font-weight: bold;\n",
       "font-family: monospace;\n",
       "margin-left: 1em;\n",
       "}\n",
       ".mono {\n",
       "font-family: monospace;\n",
       "display: block;\n",
       "}\n",
       ".err-msg {\n",
       "color: red;\n",
       "font-style: italic;\n",
       "font-family: monospace;\n",
       "white-space: pre;\n",
       "display: block;\n",
       "}\n",
       "#unshowable {\n",
       "color: red;\n",
       "font-weight: bold;\n",
       "}\n",
       ".err-msg.in.collapse {\n",
       "padding-top: 0.7em;\n",
       "}\n",
       ".highlight-code {\n",
       "white-space: pre;\n",
       "font-family: monospace;\n",
       "}\n",
       ".suggestion-warning { \n",
       "font-weight: bold;\n",
       "color: rgb(200, 130, 0);\n",
       "}\n",
       ".suggestion-error { \n",
       "font-weight: bold;\n",
       "color: red;\n",
       "}\n",
       ".suggestion-name {\n",
       "font-weight: bold;\n",
       "}\n",
       "</style><div class=\"suggestion-name\" style=\"clear:both;\">Use sum</div><div class=\"suggestion-row\" style=\"float: left;\"><div class=\"suggestion-warning\">Found:</div><div class=\"highlight-code\" id=\"haskell\">foldr (+) 0</div></div><div class=\"suggestion-row\" style=\"float: left;\"><div class=\"suggestion-warning\">Why Not:</div><div class=\"highlight-code\" id=\"haskell\">sum</div></div>"
      ],
      "text/plain": [
       "Line 1: Use sum\n",
       "Found:\n",
       "foldr (+) 0\n",
       "Why not:\n",
       "sum"
      ]
     },
     "metadata": {},
     "output_type": "display_data"
    },
    {
     "data": {
      "text/plain": [
       "6"
      ]
     },
     "metadata": {},
     "output_type": "display_data"
    }
   ],
   "source": [
    "-- 2. Reduction\n",
    "print $ foldr (+) 0 [1, 2, 3]  -- equivalent: sum [1, 2, 3]"
   ]
  },
  {
   "cell_type": "code",
   "execution_count": 5,
   "metadata": {},
   "outputs": [
    {
     "data": {
      "text/plain": [
       "[11,12,13]"
      ]
     },
     "metadata": {},
     "output_type": "display_data"
    }
   ],
   "source": [
    "-- 3. Mapping\n",
    "print $ map (+ 10) [1, 2, 3]"
   ]
  },
  {
   "cell_type": "code",
   "execution_count": 7,
   "metadata": {},
   "outputs": [
    {
     "data": {
      "text/plain": [
       "[121,144,169]"
      ]
     },
     "metadata": {},
     "output_type": "display_data"
    }
   ],
   "source": [
    "-- 4. Composition\n",
    "f x = x + 10\n",
    "g x = x * x\n",
    "print $ map (g . f) [1, 2, 3]"
   ]
  },
  {
   "cell_type": "code",
   "execution_count": 8,
   "metadata": {},
   "outputs": [
    {
     "data": {
      "text/plain": [
       "[\"[one]\",\"[two]\",\"[three]\"]"
      ]
     },
     "metadata": {},
     "output_type": "display_data"
    }
   ],
   "source": [
    "-- 5. AddBrackets (String manipulation)\n",
    "addBrackets s = \"[\" ++ s ++ \"]\"\n",
    "print $ map addBrackets [\"one\", \"two\", \"three\"]"
   ]
  },
  {
   "cell_type": "code",
   "execution_count": 10,
   "metadata": {},
   "outputs": [
    {
     "data": {
      "text/plain": [
       "\"is five\""
      ]
     },
     "metadata": {},
     "output_type": "display_data"
    }
   ],
   "source": [
    "-- 6. Control Structures (Function argument pattern matching)\n",
    "myIf True thenFunc elseFunc = thenFunc\n",
    "myIf False thenFunc elseFunc = elseFunc\n",
    "let x = 5 in print $ myIf (x == 5) \"is five\" \"is not five\""
   ]
  },
  {
   "cell_type": "code",
   "execution_count": 11,
   "metadata": {},
   "outputs": [
    {
     "data": {
      "text/plain": [
       "120"
      ]
     },
     "metadata": {},
     "output_type": "display_data"
    }
   ],
   "source": [
    "-- 7. Factorial\n",
    "factorial n = if n < 2 then 1 else n * factorial (n - 1)\n",
    "print $ factorial 5"
   ]
  },
  {
   "cell_type": "code",
   "execution_count": 27,
   "metadata": {},
   "outputs": [
    {
     "data": {
      "text/plain": []
     },
     "metadata": {},
     "output_type": "display_data"
    }
   ],
   "source": [
    "-- Run bash commands withing Jupyter (GHCI)\n",
    ":! echo \"32 71 84 57 0 26 54 96 72 81\\n27 83 81 55 38 5 18 69 3 80\\n20 74 46 56 74 67 6 61 82 73\\n98 69 2 75 17 10 74 10 9 74\\n6 5 29 22 51 1 90 7 35 77\\n1 91 14 27 76 42 23 7 81 15\\n6 29 15 69 5 12 55 64 87 41\\n7 79 81 12 9 0 30 0 72 98\\n34 68 44 11 34 7 40 8 7 95\\n12 40 24 29 62 42 82 7 42 19\\n\" > numbers.txt"
   ]
  },
  {
   "cell_type": "code",
   "execution_count": 28,
   "metadata": {},
   "outputs": [
    {
     "data": {
      "text/plain": [
       "32 71 84 57 0 26 54 96 72 81\n",
       "27 83 81 55 38 5 18 69 3 80\n",
       "20 74 46 56 74 67 6 61 82 73\n",
       "98 69 2 75 17 10 74 10 9 74\n",
       "6 5 29 22 51 1 90 7 35 77\n",
       "1 91 14 27 76 42 23 7 81 15\n",
       "6 29 15 69 5 12 55 64 87 41\n",
       "7 79 81 12 9 0 30 0 72 98\n",
       "34 68 44 11 34 7 40 8 7 95\n",
       "12 40 24 29 62 42 82 7 42 19"
      ]
     },
     "metadata": {},
     "output_type": "display_data"
    }
   ],
   "source": [
    "-- 8. Reading text files\n",
    "content <- readFile \"./numbers.txt\"\n",
    "putStrLn content"
   ]
  },
  {
   "cell_type": "code",
   "execution_count": 32,
   "metadata": {},
   "outputs": [
    {
     "data": {
      "text/plain": [
       "count = 100"
      ]
     },
     "metadata": {},
     "output_type": "display_data"
    },
    {
     "data": {
      "text/plain": [
       "total = 4207"
      ]
     },
     "metadata": {},
     "output_type": "display_data"
    },
    {
     "data": {
      "text/plain": [
       "mean = 42.07"
      ]
     },
     "metadata": {},
     "output_type": "display_data"
    },
    {
     "data": {
      "text/plain": [
       "range = Just (0,98)"
      ]
     },
     "metadata": {},
     "output_type": "display_data"
    }
   ],
   "source": [
    "-- 9. String of numbers to array of Ints\n",
    "-- Note: words \"hi I am Danial\" == [\"hi\",\"I\",\"am\",\"Danial\"]\n",
    "-- Note: read \"12\"::Int == 12\n",
    "--       read \"1.22\"::Double == 1.22\n",
    "--       read \"True\"::Bool == True\n",
    "-- readInts has type String mapping to a list of Ints\n",
    "readInts :: String -> [Int]\n",
    "readInts s = let ws = words s in map read ws\n",
    "\n",
    "-- 10. Type constraint in type signature using '=>' (pronounced implies)\n",
    "--     '->' (pronounced maps to) used in type signatures and anonymous functions\n",
    "minMax :: Ord a => [a] -> Maybe (a, a)\n",
    "-- ':' is pronounced cons. cunstructs a list from a new head element and an \n",
    "--     existing tail or used for pattern matching like in this case\n",
    "\n",
    "-- 'Just' and 'Nothing' are data constructors and belong to 'Maybe' type\n",
    "minMax (h : t) = Just $ foldr -- Non empty list\n",
    "  (\\x (min, max) -> (if x < min then x else min, if x > max then x else max)) -- anonymous function\n",
    "  (h, h) -- starting value, pair of head elements\n",
    "  t -- iterate over the tail\n",
    "minMax _ = Nothing  -- Empty list\n",
    "\n",
    "let values = readInts content\n",
    "    count = length values\n",
    "    total = sum values\n",
    "    mean = fromIntegral total / fromIntegral count\n",
    "    range = minMax values -- 10. read minMax notes above\n",
    "putStrLn $ \"count = \" ++ show count -- show is equivalent of toString\n",
    "putStrLn $ \"total = \" ++ show total\n",
    "putStrLn $ \"mean = \" ++ show mean\n",
    "putStrLn $ \"range = \" ++ show range"
   ]
  },
  {
   "cell_type": "code",
   "execution_count": 33,
   "metadata": {},
   "outputs": [
    {
     "data": {
      "text/plain": [
       "11"
      ]
     },
     "metadata": {},
     "output_type": "display_data"
    },
    {
     "data": {
      "text/plain": [
       "11"
      ]
     },
     "metadata": {},
     "output_type": "display_data"
    },
    {
     "data": {
      "text/plain": [
       "11"
      ]
     },
     "metadata": {},
     "output_type": "display_data"
    },
    {
     "data": {
      "text/plain": [
       "11"
      ]
     },
     "metadata": {},
     "output_type": "display_data"
    }
   ],
   "source": [
    "-- 11. Whitespace indentations\n",
    "let\n",
    "  x = 5\n",
    "  y = 6\n",
    "  in print (x + y)\n",
    "\n",
    "let x = 5\n",
    "    y = 6 \n",
    "    in print (x + y)\n",
    "\n",
    "let x = 5; y = 6 in print (x + y)\n",
    "\n",
    "let { x = 5; y = 6 } in print (x + y)"
   ]
  },
  {
   "cell_type": "code",
   "execution_count": 34,
   "metadata": {},
   "outputs": [
    {
     "data": {
      "text/plain": [
       "122"
      ]
     },
     "metadata": {},
     "output_type": "display_data"
    }
   ],
   "source": [
    "-- 12. Where bindings\n",
    "myWhereFunc :: Int -> Int -> Int\n",
    "myWhereFunc x y = a + b\n",
    "  where\n",
    "      a = x + 1\n",
    "      b = y + 1\n",
    "print $ myWhereFunc 10 110"
   ]
  },
  {
   "cell_type": "code",
   "execution_count": 35,
   "metadata": {},
   "outputs": [
    {
     "data": {
      "text/plain": [
       "127.0.0.1:80"
      ]
     },
     "metadata": {},
     "output_type": "display_data"
    }
   ],
   "source": [
    "-- 13. data and type\n",
    "type Port = Int\n",
    "\n",
    "data Address = Address Int Int Int Int Port\n",
    "\n",
    "prettyPrint :: Address -> IO ()\n",
    "prettyPrint (Address ip0 ip1 ip2 ip3 port)\n",
    "  = putStrLn $\n",
    "      show ip0 ++ \".\" ++\n",
    "      show ip1 ++ \".\" ++\n",
    "      show ip2 ++ \".\" ++\n",
    "      show ip3 ++ \":\" ++ show port\n",
    "prettyPrint (Address 127 0 0 1 80)"
   ]
  },
  {
   "cell_type": "code",
   "execution_count": 36,
   "metadata": {},
   "outputs": [
    {
     "data": {
      "text/plain": [
       "\"(I) (am) (Danial)\""
      ]
     },
     "metadata": {},
     "output_type": "display_data"
    }
   ],
   "source": [
    "-- 14. Unwords is like [].join(\" \")\n",
    "--  unwords [\"I\", \"am\", \"Danial\"] == \"I am Danial\"\n",
    "parenthesizeWords s = unwords $ map parenthesizeWord (words s)\n",
    "    where parenthesizeWord s = \"(\" ++ s ++ \")\"\n",
    "\n",
    "-- Equivalent implementation\n",
    "parenthesizeWords s = unwords $ map (\\s -> \"(\" ++ s ++ \")\") (words s)\n",
    "\n",
    "print $ parenthesizeWords \"I am Danial\""
   ]
  },
  {
   "cell_type": "code",
   "execution_count": 39,
   "metadata": {},
   "outputs": [
    {
     "data": {
      "text/plain": [
       "CMYK"
      ]
     },
     "metadata": {},
     "output_type": "display_data"
    },
    {
     "data": {
      "text/plain": [
       "RGB 2"
      ]
     },
     "metadata": {},
     "output_type": "display_data"
    }
   ],
   "source": [
    "-- Algebraic Data Types\n",
    "data Color = RGB Int Int Int | CMYK Float Float Float Float deriving Show\n",
    "\n",
    "colorModel :: Color -> String\n",
    "colorModel c =\n",
    "  case c of RGB 1 _ _ -> \"RGB 1\"\n",
    "            RGB{} -> \"RGB 2\"\n",
    "            CMYK{} -> \"CMYK\"\n",
    "\n",
    "let c = CMYK 1.0 2.0 3.0 4.0\n",
    "putStrLn $ colorModel c\n",
    "putStrLn $ colorModel $ RGB 2 2 3"
   ]
  },
  {
   "cell_type": "code",
   "execution_count": null,
   "metadata": {},
   "outputs": [],
   "source": []
  }
 ],
 "metadata": {
  "kernelspec": {
   "display_name": "Haskell",
   "language": "haskell",
   "name": "haskell"
  },
  "language_info": {
   "codemirror_mode": "ihaskell",
   "file_extension": ".hs",
   "name": "haskell",
   "version": "8.2.2"
  }
 },
 "nbformat": 4,
 "nbformat_minor": 2
}
